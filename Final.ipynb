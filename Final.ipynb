{
 "cells": [
  {
   "cell_type": "markdown",
   "metadata": {},
   "source": [
    "## Group Project (Please enter your names and UIDs)\n",
    "### Sumer Malhotra (3035347457) |  Sumer Malhotra (3035347457) \n",
    "### Sumer Malhotra (3035347457) | Sumer Malhotra (3035347457)"
   ]
  },
  {
   "cell_type": "markdown",
   "metadata": {},
   "source": [
    "## Importing Libraries"
   ]
  },
  {
   "cell_type": "code",
   "execution_count": 39,
   "metadata": {},
   "outputs": [],
   "source": [
    "import numpy as np\n",
    "import matplotlib.pyplot as plt\n",
    "import random"
   ]
  },
  {
   "cell_type": "markdown",
   "metadata": {},
   "source": [
    "## User-defined Functions"
   ]
  },
  {
   "cell_type": "code",
   "execution_count": 41,
   "metadata": {},
   "outputs": [],
   "source": [
    "def spinGenerator():\n",
    "    x = random.uniform(0, 1)\n",
    "    if x > 0.5:\n",
    "        return 1\n",
    "    return -1\n",
    "\n",
    "def computeNeighbors(lattice, x, y):\n",
    "    vals = [-1, 1]\n",
    "    sum = 0\n",
    "    for i in vals:\n",
    "        if (x+i) % len(lattice) == 0 and x+i != 0:\n",
    "            x1 = 0\n",
    "        else:\n",
    "            x1 = x+i\n",
    "        if (y+i) % len(lattice) == 0 and y+i != 0:\n",
    "            y1 = 0\n",
    "        else:\n",
    "            y1 = y+i\n",
    "        sum += lattice[x1][y] + lattice[x][y1]\n",
    "    return sum\n",
    "\n",
    "def generateLattice(dimensions):\n",
    "    return np.array([[spinGenerator() for i in range(dimensions)] for j in range(dimensions)])"
   ]
  },
  {
   "cell_type": "code",
   "execution_count": null,
   "metadata": {},
   "outputs": [],
   "source": []
  }
 ],
 "metadata": {
  "kernelspec": {
   "display_name": "Python 3",
   "language": "python",
   "name": "python3"
  },
  "language_info": {
   "codemirror_mode": {
    "name": "ipython",
    "version": 3
   },
   "file_extension": ".py",
   "mimetype": "text/x-python",
   "name": "python",
   "nbconvert_exporter": "python",
   "pygments_lexer": "ipython3",
   "version": "3.7.3"
  }
 },
 "nbformat": 4,
 "nbformat_minor": 2
}
